{
 "cells": [
  {
   "cell_type": "markdown",
   "id": "dab332f2-5b62-4c2c-85de-b2aa389a8e86",
   "metadata": {},
   "source": [
    "# <center>**Part2**"
   ]
  },
  {
   "cell_type": "markdown",
   "id": "cde0357b-a50d-49e5-841c-43155c6b5eca",
   "metadata": {},
   "source": [
    "### **Multiplication and Division--Int and float**"
   ]
  },
  {
   "cell_type": "code",
   "execution_count": 2,
   "id": "f23d624c-2b10-4718-83b4-2f5524f9004a",
   "metadata": {},
   "outputs": [
    {
     "name": "stdin",
     "output_type": "stream",
     "text": [
      "Enter the first number:  5.7\n",
      "Enter the second number:  8.6\n"
     ]
    },
    {
     "name": "stdout",
     "output_type": "stream",
     "text": [
      "The Multiplication of two float numbers is:  49.019999999999996\n"
     ]
    }
   ],
   "source": [
    "num1 = float(input(\"Enter the first number: \"))\n",
    "num2 = float(input(\"Enter the second number: \"))\n",
    "Multiply=num1*num2\n",
    "print(\"The Multiplication of two float numbers is: \",Multiply)\n",
    "\n"
   ]
  },
  {
   "cell_type": "code",
   "execution_count": 3,
   "id": "32b80031-b408-4dba-b04c-485d99577a79",
   "metadata": {},
   "outputs": [
    {
     "name": "stdin",
     "output_type": "stream",
     "text": [
      "Enter the first number:  34\n",
      "Enter the second number:  43\n"
     ]
    },
    {
     "name": "stdout",
     "output_type": "stream",
     "text": [
      "The Multiplication of two int numbers is:  1462\n"
     ]
    }
   ],
   "source": [
    "num1 = int(input(\"Enter the first number: \"))\n",
    "num2 = int(input(\"Enter the second number: \"))\n",
    "Multiply=num1*num2\n",
    "print(\"The Multiplication of two int numbers is: \",Multiply)\n",
    "\n"
   ]
  },
  {
   "cell_type": "markdown",
   "id": "a59d200f-5ef3-4ec6-8a23-d2d2766bc7e5",
   "metadata": {},
   "source": [
    "### **Division of two numbers -- Int and float**"
   ]
  },
  {
   "cell_type": "code",
   "execution_count": 4,
   "id": "10518c3e-e92f-4635-8bc6-b37851f9c9f6",
   "metadata": {},
   "outputs": [
    {
     "name": "stdin",
     "output_type": "stream",
     "text": [
      "Enter the first number:  4.5\n",
      "Enter the second number:  6.6\n"
     ]
    },
    {
     "name": "stdout",
     "output_type": "stream",
     "text": [
      "The Division of two float numbers is:  0.6818181818181819\n"
     ]
    }
   ],
   "source": [
    "num1 = float(input(\"Enter the first number: \"))\n",
    "num2 = float(input(\"Enter the second number: \"))\n",
    "Division=num1/num2\n",
    "print(\"The Division of two float numbers is: \",Division)\n"
   ]
  },
  {
   "cell_type": "code",
   "execution_count": 5,
   "id": "6f8d321f-d3d5-4d99-b8e0-64ac092801c1",
   "metadata": {},
   "outputs": [
    {
     "name": "stdin",
     "output_type": "stream",
     "text": [
      "Enter the first number:  7\n",
      "Enter the second number:  5\n"
     ]
    },
    {
     "name": "stdout",
     "output_type": "stream",
     "text": [
      "The Division of two int numbers is:  1.4\n"
     ]
    }
   ],
   "source": [
    "num1 = int(input(\"Enter the first number: \"))\n",
    "num2 = int(input(\"Enter the second number: \"))\n",
    "Division=num1/num2\n",
    "print(\"The Division of two int numbers is: \",Division)"
   ]
  },
  {
   "cell_type": "code",
   "execution_count": null,
   "id": "d5567f43-ffd1-4ed5-8456-ecc69365ad04",
   "metadata": {},
   "outputs": [],
   "source": []
  }
 ],
 "metadata": {
  "kernelspec": {
   "display_name": "Python 3 (ipykernel)",
   "language": "python",
   "name": "python3"
  },
  "language_info": {
   "codemirror_mode": {
    "name": "ipython",
    "version": 3
   },
   "file_extension": ".py",
   "mimetype": "text/x-python",
   "name": "python",
   "nbconvert_exporter": "python",
   "pygments_lexer": "ipython3",
   "version": "3.11.7"
  }
 },
 "nbformat": 4,
 "nbformat_minor": 5
}
