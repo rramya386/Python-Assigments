{
 "cells": [
  {
   "cell_type": "code",
   "execution_count": 3,
   "id": "6b498f19-f309-4466-995f-bb2f978e3379",
   "metadata": {},
   "outputs": [
    {
     "name": "stdin",
     "output_type": "stream",
     "text": [
      "Enter a course number:  CSC102\n"
     ]
    },
    {
     "name": "stdout",
     "output_type": "stream",
     "text": [
      "Course Number: CSC102\n",
      "Room Number: 4501\n",
      "Instructor: Alvarado\n",
      "Meeting Time: 9:00 a.m.\n"
     ]
    }
   ],
   "source": [
    "# Dictionaries for course details\n",
    "Room_No = {\n",
    "    \"CSC101\": \"3004\",\n",
    "    \"CSC102\": \"4501\",\n",
    "    \"CSC103\": \"6755\",\n",
    "    \"NET110\": \"1244\",\n",
    "    \"COM241\": \"1411\"\n",
    "}\n",
    "\n",
    "Instructors = {\n",
    "    \"CSC101\": \"Haynes\",\n",
    "    \"CSC102\": \"Alvarado\",\n",
    "    \"CSC103\": \"Rich\",\n",
    "    \"NET110\": \"Burke\",\n",
    "    \"COM241\": \"Lee\"\n",
    "}\n",
    "\n",
    "Meeting_Times = {\n",
    "    \"CSC101\": \"8:00 a.m.\",\n",
    "    \"CSC102\": \"9:00 a.m.\",\n",
    "    \"CSC103\": \"10:00 a.m.\",\n",
    "    \"NET110\": \"11:00 a.m.\",\n",
    "    \"COM241\": \"1:00 p.m.\"\n",
    "}\n",
    "\n",
    "# Function to get course details\n",
    "def get_course_details(course_number):\n",
    "    room = Room_No.get(course_number)\n",
    "    instructor = Instructors.get(course_number)\n",
    "    time = Meeting_Times.get(course_number)\n",
    "    \n",
    "    if room and instructor and time:\n",
    "        print(f\"Course Number: {course_number}\")\n",
    "        print(f\"Room Number: {room}\")\n",
    "        print(f\"Instructor: {instructor}\")\n",
    "        print(f\"Meeting Time: {time}\")\n",
    "    else:\n",
    "        print(\"Course number not found.\")\n",
    "\n",
    "# Main program\n",
    "def main():\n",
    "    course_number = input(\"Enter a course number: \").upper()\n",
    "    get_course_details(course_number)\n",
    "\n",
    "if __name__ == \"__main__\":\n",
    "    main()\n"
   ]
  },
  {
   "cell_type": "code",
   "execution_count": null,
   "id": "acf9b7d3-1447-48e5-bb92-a3bd2b9f4d1a",
   "metadata": {},
   "outputs": [],
   "source": []
  }
 ],
 "metadata": {
  "kernelspec": {
   "display_name": "Python 3 (ipykernel)",
   "language": "python",
   "name": "python3"
  },
  "language_info": {
   "codemirror_mode": {
    "name": "ipython",
    "version": 3
   },
   "file_extension": ".py",
   "mimetype": "text/x-python",
   "name": "python",
   "nbconvert_exporter": "python",
   "pygments_lexer": "ipython3",
   "version": "3.11.4"
  }
 },
 "nbformat": 4,
 "nbformat_minor": 5
}
