{
 "cells": [
  {
   "cell_type": "markdown",
   "id": "ef775280-396b-4900-aeb3-ebc5c1c0f881",
   "metadata": {},
   "source": [
    "# <center>**Part1**"
   ]
  },
  {
   "cell_type": "markdown",
   "id": "9de14390-cd77-4b0c-a252-9280de88c373",
   "metadata": {},
   "source": [
    "### **Addition of two Numbers--Int and Float**"
   ]
  },
  {
   "cell_type": "code",
   "execution_count": 51,
   "id": "10c40bbd-f375-4f93-87b7-ce37edd01ae6",
   "metadata": {},
   "outputs": [
    {
     "name": "stdin",
     "output_type": "stream",
     "text": [
      "Enter the first number:  5\n",
      "Enter the second number:  6\n"
     ]
    },
    {
     "name": "stdout",
     "output_type": "stream",
     "text": [
      "The Addition of two integer numbers is 11\n"
     ]
    }
   ],
   "source": [
    "num1 = int(input(\"Enter the first number: \"))\n",
    "num2 = int(input(\"Enter the second number: \"))\n",
    "add=num1+num2\n",
    "add=print(\"The Addition of two integer numbers is\",add)"
   ]
  },
  {
   "cell_type": "code",
   "execution_count": 52,
   "id": "768ef417-1a12-43d2-a9c6-f1a89e2082a1",
   "metadata": {},
   "outputs": [
    {
     "name": "stdin",
     "output_type": "stream",
     "text": [
      "Enter the first number:  5.6\n",
      "Enter the second number:  9.6\n"
     ]
    },
    {
     "name": "stdout",
     "output_type": "stream",
     "text": [
      "The Addition of two float numbers is 15.2\n"
     ]
    }
   ],
   "source": [
    "num1 = float(input(\"Enter the first number: \"))\n",
    "num2 = float(input(\"Enter the second number: \"))\n",
    "\n",
    "add=num1+num2\n",
    "add=print(\"The Addition of two float numbers is\",add)"
   ]
  },
  {
   "cell_type": "markdown",
   "id": "823c7217-ee78-4361-b881-437233d276d6",
   "metadata": {},
   "source": [
    "### ****Subtraction of two numbers--Int and float****"
   ]
  },
  {
   "cell_type": "code",
   "execution_count": 20,
   "id": "42762087-81bb-4582-83d8-275cec1ae816",
   "metadata": {},
   "outputs": [
    {
     "name": "stdin",
     "output_type": "stream",
     "text": [
      "Enter the first number:  100\n",
      "Enter the second number:  78\n"
     ]
    },
    {
     "name": "stdout",
     "output_type": "stream",
     "text": [
      "The subtraction of two numbers is 22\n"
     ]
    }
   ],
   "source": [
    "num1 = int(input(\"Enter the first number: \"))\n",
    "num2 = int(input(\"Enter the second number: \"))\n",
    "\n",
    "Sub=num1-num2\n",
    "print(\"The subtraction of two int umbers is\",Sub)"
   ]
  },
  {
   "cell_type": "code",
   "execution_count": 37,
   "id": "3e4edc45-b615-40da-ab0e-ae7ce5fae24e",
   "metadata": {},
   "outputs": [
    {
     "name": "stdin",
     "output_type": "stream",
     "text": [
      "Enter the first number:  4.6\n",
      "Enter the second number:  3.5\n"
     ]
    },
    {
     "name": "stdout",
     "output_type": "stream",
     "text": [
      "The subtraction of two numbers is 1.0999999999999996\n"
     ]
    }
   ],
   "source": [
    "num1 = float(input(\"Enter the first number: \"))\n",
    "num2 = float(input(\"Enter the second number: \"))\n",
    "\n",
    "Sub=num1-num2\n",
    "print(\"The subtraction of two float numbers is\",Sub)"
   ]
  },
  {
   "cell_type": "code",
   "execution_count": null,
   "id": "fa5cce6a-cbde-4a65-9fc4-91d8406628c6",
   "metadata": {},
   "outputs": [],
   "source": []
  }
 ],
 "metadata": {
  "kernelspec": {
   "display_name": "Python 3 (ipykernel)",
   "language": "python",
   "name": "python3"
  },
  "language_info": {
   "codemirror_mode": {
    "name": "ipython",
    "version": 3
   },
   "file_extension": ".py",
   "mimetype": "text/x-python",
   "name": "python",
   "nbconvert_exporter": "python",
   "pygments_lexer": "ipython3",
   "version": "3.11.7"
  }
 },
 "nbformat": 4,
 "nbformat_minor": 5
}
