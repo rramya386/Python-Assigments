{
 "cells": [
  {
   "cell_type": "raw",
   "id": "3fafb063-aba0-4995-b991-9f884b4d6d09",
   "metadata": {},
   "source": [
    "Creating Python Programs\n",
    "Part 1:\n",
    "Write a program that calculates the total amount of a meal purchased at a restaurant. The program should ask the user to enter the charge for the food and then calculate the amounts with an 18 percent tip and 7 percent sales tax. Display each of these amounts and the total price.\n",
    "\n",
    "Part 2:\n",
    "Many people keep time using a 24-hour clock (11 is 11am and 23 is 11pm, 0 is midnight). If it is currently 13 and you set your alarm to go off in 50 hours, it will be 15 (3pm). Write a Python program to solve the general version of the above problem. Ask the user for the time now (in hours) and then ask for the number of hours to wait for the alarm. Your program should output what the time will be on a 24-hour clock when the alarm goes off.\n",
    "\n",
    "Submission:\n",
    "Compile and submit your pseudocode, source code, and screenshots of the application executing the code from Parts 1 and 2, the results and GIT repository in a single document (Word is preferred)."
   ]
  },
  {
   "cell_type": "markdown",
   "id": "6a017acb-c871-4b9d-8c6a-a7339fd50d91",
   "metadata": {},
   "source": [
    "### Part 1: Program that calculates the total amount of a meal purchased at a restaurant"
   ]
  },
  {
   "cell_type": "code",
   "execution_count": 72,
   "id": "1a81ea66-d3df-42ba-bab4-2e894f070a66",
   "metadata": {},
   "outputs": [
    {
     "name": "stdin",
     "output_type": "stream",
     "text": [
      "Enter the Meal_charge: 5\n",
      "Enter the Meal_charge: 7\n",
      "Enter the Meal_charge: 8\n",
      "Enter the Meal_charge: \n"
     ]
    },
    {
     "name": "stdout",
     "output_type": "stream",
     "text": [
      "ORDER COMPLETED!!\n",
      "\u001b[1mPlease see the Total Amount to pay.\u001b[0m\n",
      "Total Food Charge: $ 20.0\n",
      "Tip (18%): $3.60\n",
      "Sales Tax (7%): $1.40\n",
      "\u001b[1mTotal Amount: $25.00\u001b[0m\n",
      "Thank you for your order!See you again !!\n"
     ]
    }
   ],
   "source": [
    "def Total_charge():\n",
    "   charge_per_meal=0.0\n",
    "   \n",
    "   while True:\n",
    "        item=(input(\"Enter the Meal_charge:\" ))\n",
    "\n",
    "        if item == \"\" :\n",
    "            break\n",
    "        try :\n",
    "            charge=float(item)\n",
    "            charge_per_meal+=charge\n",
    "        except ValueError:\n",
    "            print(\"invalid input:Enter the meal charge to proceed or leave blank to finish\")\n",
    "   print(\"ORDER COMPLETED!!\")\n",
    "   Tip=charge_per_meal*0.18\n",
    "   Tax=charge_per_meal*0.07\n",
    "   Total_charge=charge_per_meal+Tip+Tax\n",
    "   print(\"\\033[1mPlease see the Total Amount to pay.\\033[0m\")\n",
    "   print(\"Total Food Charge:\" ,\"$\",charge_per_meal )\n",
    "   print(f\"Tip (18%): ${Tip:.2f}\")\n",
    "   print(f\"Sales Tax (7%): ${Tax:.2f}\")\n",
    "   print(f\"\\033[1mTotal Amount: ${Total_charge:.2f}\\033[0m\")\n",
    "   print(\"Thank you for your order!See you again !!\")\n",
    "Total_charge()\n",
    " "
   ]
  },
  {
   "cell_type": "markdown",
   "id": "ffdf245c-963e-4ddb-978b-cc484d4741ec",
   "metadata": {},
   "source": [
    "### Part 2: Function to calculate the time when the alarm will go off"
   ]
  },
  {
   "cell_type": "code",
   "execution_count": 80,
   "id": "2ab8b424-40dc-4a73-b539-ca7bcbc0ee52",
   "metadata": {},
   "outputs": [
    {
     "name": "stdin",
     "output_type": "stream",
     "text": [
      "Enter the current time in 24hrs format:  13\n",
      "Enter the number of hours to wait for the alarm:  50\n"
     ]
    },
    {
     "name": "stdout",
     "output_type": "stream",
     "text": [
      "The alarm will go off at 15:00 on a 24-hour clock.\n"
     ]
    }
   ],
   "source": [
    "# Function to calculate the time when the alarm will go off\n",
    "def Alarm_time():\n",
    "    # Get the current time in 24 hrs format\n",
    "     Time_now= int(input(\"Enter the current time in 24hrs format: \"))\n",
    "\n",
    "    #Type the wait hour time\n",
    "     waiting_hours_time = int(input(\"Enter the number of hours to wait for the alarm: \"))\n",
    "\n",
    "    # Calculate the total time in 24 hours format\n",
    "     alarm_time = (Time_now +  waiting_hours_time) % 24\n",
    "\n",
    "    # Display the result\n",
    "     print(f\"The alarm will go off at {alarm_time:02d}:00 on a 24-hour clock.\")\n",
    "\n",
    "# Call the function to run the program\n",
    "Alarm_time()\n"
   ]
  },
  {
   "cell_type": "code",
   "execution_count": null,
   "id": "00236d87-9e76-4eb2-80b9-2558460e4532",
   "metadata": {},
   "outputs": [],
   "source": []
  },
  {
   "cell_type": "code",
   "execution_count": null,
   "id": "985a9d64-09f6-4021-bb29-7e1d6e058189",
   "metadata": {},
   "outputs": [],
   "source": []
  }
 ],
 "metadata": {
  "kernelspec": {
   "display_name": "Python 3 (ipykernel)",
   "language": "python",
   "name": "python3"
  },
  "language_info": {
   "codemirror_mode": {
    "name": "ipython",
    "version": 3
   },
   "file_extension": ".py",
   "mimetype": "text/x-python",
   "name": "python",
   "nbconvert_exporter": "python",
   "pygments_lexer": "ipython3",
   "version": "3.11.7"
  }
 },
 "nbformat": 4,
 "nbformat_minor": 5
}
