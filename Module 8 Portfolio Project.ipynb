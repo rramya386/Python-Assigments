{
 "cells": [
  {
   "cell_type": "code",
   "execution_count": 16,
   "id": "025f4a45-76cd-4e00-ae73-3fca502292e2",
   "metadata": {},
   "outputs": [
    {
     "name": "stdin",
     "output_type": "stream",
     "text": [
      "Please enter customer's name:  Jay\n",
      "Please enter today's date:  6 sep 2024\n"
     ]
    },
    {
     "name": "stdout",
     "output_type": "stream",
     "text": [
      "\n",
      "Customer name: Jay\n",
      "Today's date: 6 sep 2024\n",
      "\n",
      "\n",
      "MENU\n",
      "a - Add item to cart\n",
      "r - Remove item from cart\n",
      "c - Change item quantity\n",
      "i - Output items' descriptions\n",
      "o - Output shopping cart\n",
      "q - Quit\n",
      "Choose an option: \n",
      "\n"
     ]
    },
    {
     "name": "stdin",
     "output_type": "stream",
     "text": [
      " a\n"
     ]
    },
    {
     "name": "stdout",
     "output_type": "stream",
     "text": [
      "ADD ITEM TO CART\n"
     ]
    },
    {
     "name": "stdin",
     "output_type": "stream",
     "text": [
      "Enter the item name:  Water\n",
      "Enter the item description:  Gallon Water\n",
      "Enter the item price:  3\n",
      "Enter the item quantity:  4\n"
     ]
    },
    {
     "name": "stdout",
     "output_type": "stream",
     "text": [
      "\n",
      "MENU\n",
      "a - Add item to cart\n",
      "r - Remove item from cart\n",
      "c - Change item quantity\n",
      "i - Output items' descriptions\n",
      "o - Output shopping cart\n",
      "q - Quit\n",
      "Choose an option: \n",
      "\n"
     ]
    },
    {
     "name": "stdin",
     "output_type": "stream",
     "text": [
      " a\n"
     ]
    },
    {
     "name": "stdout",
     "output_type": "stream",
     "text": [
      "ADD ITEM TO CART\n"
     ]
    },
    {
     "name": "stdin",
     "output_type": "stream",
     "text": [
      "Enter the item name:  Cheese\n",
      "Enter the item description:  String Cheese\n",
      "Enter the item price:  4\n",
      "Enter the item quantity:  7\n"
     ]
    },
    {
     "name": "stdout",
     "output_type": "stream",
     "text": [
      "\n",
      "MENU\n",
      "a - Add item to cart\n",
      "r - Remove item from cart\n",
      "c - Change item quantity\n",
      "i - Output items' descriptions\n",
      "o - Output shopping cart\n",
      "q - Quit\n",
      "Choose an option: \n",
      "\n"
     ]
    },
    {
     "name": "stdin",
     "output_type": "stream",
     "text": [
      " a\n"
     ]
    },
    {
     "name": "stdout",
     "output_type": "stream",
     "text": [
      "ADD ITEM TO CART\n"
     ]
    },
    {
     "name": "stdin",
     "output_type": "stream",
     "text": [
      "Enter the item name:  Fruit\n",
      "Enter the item description:  Apple\n",
      "Enter the item price:  2\n",
      "Enter the item quantity:  5\n"
     ]
    },
    {
     "name": "stdout",
     "output_type": "stream",
     "text": [
      "\n",
      "MENU\n",
      "a - Add item to cart\n",
      "r - Remove item from cart\n",
      "c - Change item quantity\n",
      "i - Output items' descriptions\n",
      "o - Output shopping cart\n",
      "q - Quit\n",
      "Choose an option: \n",
      "\n"
     ]
    },
    {
     "name": "stdin",
     "output_type": "stream",
     "text": [
      " c\n"
     ]
    },
    {
     "name": "stdout",
     "output_type": "stream",
     "text": [
      "CHANGE ITEM QUANTITY\n"
     ]
    },
    {
     "name": "stdin",
     "output_type": "stream",
     "text": [
      "Enter the item name:  Fruit\n",
      "Enter the new quantity:  6\n"
     ]
    },
    {
     "name": "stdout",
     "output_type": "stream",
     "text": [
      "\n",
      "MENU\n",
      "a - Add item to cart\n",
      "r - Remove item from cart\n",
      "c - Change item quantity\n",
      "i - Output items' descriptions\n",
      "o - Output shopping cart\n",
      "q - Quit\n",
      "Choose an option: \n",
      "\n"
     ]
    },
    {
     "name": "stdin",
     "output_type": "stream",
     "text": [
      " i\n"
     ]
    },
    {
     "name": "stdout",
     "output_type": "stream",
     "text": [
      "OUTPUT ITEMS' DESCRIPTIONS\n",
      "Jay's Shopping Cart - 6 sep 2024\n",
      "Item Descriptions\n",
      "Water: Gallon Water\n",
      "Cheese: String Cheese\n",
      "Fruit: Apple\n",
      "\n",
      "MENU\n",
      "a - Add item to cart\n",
      "r - Remove item from cart\n",
      "c - Change item quantity\n",
      "i - Output items' descriptions\n",
      "o - Output shopping cart\n",
      "q - Quit\n",
      "Choose an option: \n",
      "\n"
     ]
    },
    {
     "name": "stdin",
     "output_type": "stream",
     "text": [
      " r\n"
     ]
    },
    {
     "name": "stdout",
     "output_type": "stream",
     "text": [
      "REMOVE ITEM FROM CART\n"
     ]
    },
    {
     "name": "stdin",
     "output_type": "stream",
     "text": [
      "Enter name of item to remove:  Fruit\n"
     ]
    },
    {
     "name": "stdout",
     "output_type": "stream",
     "text": [
      "\n",
      "MENU\n",
      "a - Add item to cart\n",
      "r - Remove item from cart\n",
      "c - Change item quantity\n",
      "i - Output items' descriptions\n",
      "o - Output shopping cart\n",
      "q - Quit\n",
      "Choose an option: \n",
      "\n"
     ]
    },
    {
     "name": "stdin",
     "output_type": "stream",
     "text": [
      " i\n"
     ]
    },
    {
     "name": "stdout",
     "output_type": "stream",
     "text": [
      "OUTPUT ITEMS' DESCRIPTIONS\n",
      "Jay's Shopping Cart - 6 sep 2024\n",
      "Item Descriptions\n",
      "Water: Gallon Water\n",
      "Cheese: String Cheese\n",
      "\n",
      "MENU\n",
      "a - Add item to cart\n",
      "r - Remove item from cart\n",
      "c - Change item quantity\n",
      "i - Output items' descriptions\n",
      "o - Output shopping cart\n",
      "q - Quit\n",
      "Choose an option: \n",
      "\n"
     ]
    },
    {
     "name": "stdin",
     "output_type": "stream",
     "text": [
      " o\n"
     ]
    },
    {
     "name": "stdout",
     "output_type": "stream",
     "text": [
      "OUTPUT SHOPPING CART\n",
      "Jay's Shopping Cart - 6 sep 2024\n",
      "Number of Items: 11\n",
      "Water 4 @ $3 = $12\n",
      "Cheese 7 @ $4 = $28\n",
      "Total: $40\n",
      "\n",
      "MENU\n",
      "a - Add item to cart\n",
      "r - Remove item from cart\n",
      "c - Change item quantity\n",
      "i - Output items' descriptions\n",
      "o - Output shopping cart\n",
      "q - Quit\n",
      "Choose an option: \n",
      "\n"
     ]
    },
    {
     "name": "stdin",
     "output_type": "stream",
     "text": [
      " q\n"
     ]
    },
    {
     "name": "stdout",
     "output_type": "stream",
     "text": [
      "Quit\n"
     ]
    }
   ],
   "source": [
    "class ItemToPurchase:\n",
    "    def __init__(self, name=\"none\", price=0, quantity=0, description=\"none\"):\n",
    "        self.item_name = name\n",
    "        self.item_price = price\n",
    "        self.item_quantity = quantity\n",
    "        self.item_description = description\n",
    "\n",
    "class ShoppingCart:\n",
    "    def __init__(self, customer_name=\"none\", current_date=\"August 1, 2024\"):\n",
    "        self.customer_name = customer_name\n",
    "        self.current_date = current_date\n",
    "        self.cart_items = []\n",
    "\n",
    "    def add_item(self, item_to_purchase):\n",
    "        self.cart_items.append(item_to_purchase)\n",
    "\n",
    "    def remove_item(self, item_name):\n",
    "        item_found = False\n",
    "        for item in self.cart_items:\n",
    "            if item.item_name == item_name:\n",
    "                self.cart_items.remove(item)\n",
    "                item_found = True\n",
    "                break\n",
    "        if not item_found:\n",
    "            print(\"Item not found in cart. Nothing removed.\")\n",
    "\n",
    "    def modify_item(self, item_to_purchase):\n",
    "        item_found = False\n",
    "        for item in self.cart_items:\n",
    "            if item.item_name == item_to_purchase.item_name:\n",
    "                if item_to_purchase.item_description != \"none\":\n",
    "                    item.item_description = item_to_purchase.item_description\n",
    "                if item_to_purchase.item_price != 0:\n",
    "                    item.item_price = item_to_purchase.item_price\n",
    "                if item_to_purchase.item_quantity != 0:\n",
    "                    item.item_quantity = item_to_purchase.item_quantity\n",
    "                item_found = True\n",
    "                break\n",
    "        if not item_found:\n",
    "            print(\"Item not found in cart. Nothing modified.\")\n",
    "\n",
    "    def get_num_items_in_cart(self):\n",
    "        total_quantity = sum(item.item_quantity for item in self.cart_items)\n",
    "        return total_quantity\n",
    "\n",
    "    def get_cost_of_cart(self):\n",
    "        total_cost = sum(item.item_price * item.item_quantity for item in self.cart_items)\n",
    "        return total_cost\n",
    "\n",
    "    def print_total(self):\n",
    "        print(f\"{self.customer_name}'s Shopping Cart - {self.current_date}\")\n",
    "        if not self.cart_items:\n",
    "            print(\"SHOPPING CART IS EMPTY\")\n",
    "        else:\n",
    "            print(f\"Number of Items: {self.get_num_items_in_cart()}\")\n",
    "            for item in self.cart_items:\n",
    "                total_price = item.item_price * item.item_quantity\n",
    "                print(f\"{item.item_name} {item.item_quantity} @ ${item.item_price} = ${total_price}\")\n",
    "            print(f\"Total: ${self.get_cost_of_cart()}\")\n",
    "\n",
    "    def print_descriptions(self):\n",
    "        print(f\"{self.customer_name}'s Shopping Cart - {self.current_date}\")\n",
    "        print(\"Item Descriptions\")\n",
    "        for item in self.cart_items:\n",
    "            print(f\"{item.item_name}: {item.item_description}\")\n",
    "\n",
    "def print_menu(shopping_cart):\n",
    "    menu = \"\"\"\n",
    "MENU\n",
    "a - Add item to cart\n",
    "r - Remove item from cart\n",
    "c - Change item quantity\n",
    "i - Output items' descriptions\n",
    "o - Output shopping cart\n",
    "q - Quit\n",
    "Choose an option: \n",
    "\"\"\"\n",
    "    option = ''\n",
    "    while option != 'q':\n",
    "        print(menu)\n",
    "        option = input().strip()\n",
    "\n",
    "        if option == 'a':\n",
    "            print(\"ADD ITEM TO CART\")\n",
    "            name = input(\"Enter the item name: \")\n",
    "            description = input(\"Enter the item description: \")\n",
    "            price = int(input(\"Enter the item price: \"))\n",
    "            quantity = int(input(\"Enter the item quantity: \"))\n",
    "            item = ItemToPurchase(name, price, quantity, description)\n",
    "            shopping_cart.add_item(item)\n",
    "        \n",
    "        elif option == 'r':\n",
    "            print(\"REMOVE ITEM FROM CART\")\n",
    "            name = input(\"Enter name of item to remove: \")\n",
    "            shopping_cart.remove_item(name)\n",
    "        \n",
    "        elif option == 'c':\n",
    "            print(\"CHANGE ITEM QUANTITY\")\n",
    "            name = input(\"Enter the item name: \")\n",
    "            quantity = int(input(\"Enter the new quantity: \"))\n",
    "            item = ItemToPurchase(name, quantity=quantity)\n",
    "            shopping_cart.modify_item(item)\n",
    "        \n",
    "        elif option == 'i':\n",
    "            print(\"OUTPUT ITEMS' DESCRIPTIONS\")\n",
    "            shopping_cart.print_descriptions()\n",
    "        \n",
    "        elif option == 'o':\n",
    "            print(\"OUTPUT SHOPPING CART\")\n",
    "            shopping_cart.print_total()\n",
    "        \n",
    "        elif option == 'q':\n",
    "            print(\"Quit\")\n",
    "        else:\n",
    "            print(\"Invalid option. Please try again.\")\n",
    "\n",
    "def main():\n",
    "    # Step 7: Prompt for customer's name and today's date\n",
    "    customer_name = input(\"Please enter customer's name: \")\n",
    "    current_date = input(\"Please enter today's date: \")\n",
    "    \n",
    "    # Create a ShoppingCart object\n",
    "    shopping_cart = ShoppingCart(customer_name, current_date)\n",
    "    \n",
    "    # Output the customer's name and the date\n",
    "    print(f\"\\nCustomer name: {customer_name}\")\n",
    "    print(f\"Today's date: {current_date}\\n\")\n",
    "    \n",
    "    # Step 8-10: Menu functionality\n",
    "    print_menu(shopping_cart)\n",
    "\n",
    "if __name__ == \"__main__\":\n",
    "    main()\n"
   ]
  },
  {
   "cell_type": "code",
   "execution_count": null,
   "id": "19faddc0-19e5-4c9b-8139-6e6294a0a8ce",
   "metadata": {},
   "outputs": [],
   "source": []
  },
  {
   "cell_type": "code",
   "execution_count": null,
   "id": "43aece40-3446-43c0-b98c-1e7e387cea1a",
   "metadata": {},
   "outputs": [],
   "source": []
  },
  {
   "cell_type": "code",
   "execution_count": null,
   "id": "d1a62893-1e33-41f8-b780-bd48ccec4a4c",
   "metadata": {},
   "outputs": [],
   "source": []
  },
  {
   "cell_type": "code",
   "execution_count": null,
   "id": "bbb277d4-59c9-47af-ac9c-cc172cc2618e",
   "metadata": {},
   "outputs": [],
   "source": []
  },
  {
   "cell_type": "code",
   "execution_count": null,
   "id": "75aa7ae9-74c6-4e3b-9a21-2b4df63450ec",
   "metadata": {},
   "outputs": [],
   "source": []
  }
 ],
 "metadata": {
  "kernelspec": {
   "display_name": "Python 3 (ipykernel)",
   "language": "python",
   "name": "python3"
  },
  "language_info": {
   "codemirror_mode": {
    "name": "ipython",
    "version": 3
   },
   "file_extension": ".py",
   "mimetype": "text/x-python",
   "name": "python",
   "nbconvert_exporter": "python",
   "pygments_lexer": "ipython3",
   "version": "3.11.4"
  }
 },
 "nbformat": 4,
 "nbformat_minor": 5
}
