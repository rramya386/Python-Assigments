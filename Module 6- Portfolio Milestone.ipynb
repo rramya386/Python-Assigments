{
 "cells": [
  {
   "cell_type": "raw",
   "id": "cc7cf44b-86da-4ea8-827e-c1e787d1a95a",
   "metadata": {},
   "source": [
    "Step 4: Build the ShoppingCart class with the following data attributes and related methods. Note: Some can be method stubs (empty methods) initially, to be completed in later steps\n",
    "Step 5: In the main section of your code, implement the print_menu() function. print_menu() has a ShoppingCart parameter and outputs a menu of options to manipulate the shopping cart. Each option is represented by a single character. Build and output the menu within the function.\n"
   ]
  },
  {
   "cell_type": "code",
   "execution_count": 10,
   "id": "3a3884c4-3c8e-4e23-9eb7-21d0a106780c",
   "metadata": {},
   "outputs": [],
   "source": [
    "class ItemToPurchase:\n",
    "    def __init__(self, name=\"none\", price=0, quantity=0, description=\"none\"):\n",
    "        self.item_name = name\n",
    "        self.item_price = price\n",
    "        self.item_quantity = quantity\n",
    "        self.item_description = description\n"
   ]
  },
  {
   "cell_type": "code",
   "execution_count": 18,
   "id": "147958fe-1a75-48d5-acc8-bf776ceacff2",
   "metadata": {},
   "outputs": [],
   "source": [
    "class ShoppingCart:\n",
    "    def __init__(self, customer_name=\"none\", current_date=\"January 1, 2020\"):\n",
    "        self.customer_name = customer_name\n",
    "        self.current_date = current_date\n",
    "        self.cart_items = []\n",
    "\n",
    "    def add_item(self, item_to_purchase):\n",
    "        self.cart_items.append(item_to_purchase)\n",
    "\n",
    "    def remove_item(self, item_name):\n",
    "        item_found = False\n",
    "        for item in self.cart_items:\n",
    "            if item.item_name == item_name:\n",
    "                self.cart_items.remove(item)\n",
    "                item_found = True\n",
    "                break\n",
    "        if not item_found:\n",
    "            print(\"Item not found in cart. Nothing removed.\")\n",
    "\n",
    "    def modify_item(self, item_to_purchase):\n",
    "        item_found = False\n",
    "        for item in self.cart_items:\n",
    "            if item.item_name == item_to_purchase.item_name:\n",
    "                if item_to_purchase.item_description != \"none\":\n",
    "                    item.item_description = item_to_purchase.item_description\n",
    "                if item_to_purchase.item_price != 0:\n",
    "                    item.item_price = item_to_purchase.item_price\n",
    "                if item_to_purchase.item_quantity != 0:\n",
    "                    item.item_quantity = item_to_purchase.item_quantity\n",
    "                item_found = True\n",
    "                break\n",
    "        if not item_found:\n",
    "            print(\"Item not found in cart. Nothing modified.\")\n",
    "\n",
    "    def get_num_items_in_cart(self):\n",
    "        total_quantity = sum(item.item_quantity for item in self.cart_items)\n",
    "        return total_quantity\n",
    "\n",
    "    def get_cost_of_cart(self):\n",
    "        total_cost = sum(item.item_price * item.item_quantity for item in self.cart_items)\n",
    "        return total_cost\n",
    "\n",
    "    def print_total(self):\n",
    "        print(f\"{self.customer_name}'s Shopping Cart - {self.current_date}\")\n",
    "        if not self.cart_items:\n",
    "            print(\"SHOPPING CART IS EMPTY\")\n",
    "        else:\n",
    "            print(f\"Number of Items: {self.get_num_items_in_cart()}\")\n",
    "            for item in self.cart_items:\n",
    "                total_price = item.item_price * item.item_quantity\n",
    "                print(f\"{item.item_name} {item.item_quantity} @ ${item.item_price} = ${total_price}\")\n",
    "            print(f\"Total: ${self.get_cost_of_cart()}\")\n",
    "\n",
    "    def print_descriptions(self):\n",
    "        print(f\"{self.customer_name}'s Shopping Cart - {self.current_date}\")\n",
    "        print(\"Item Descriptions\")\n",
    "        for item in self.cart_items:\n",
    "            print(f\"{item.item_name}: {item.item_description}\")\n"
   ]
  },
  {
   "cell_type": "code",
   "execution_count": 20,
   "id": "e535e204-4903-4ddb-9838-09207c835f3d",
   "metadata": {},
   "outputs": [],
   "source": [
    "def print_menu(shopping_cart):\n",
    "    menu = \"\"\"\n",
    "MENU\n",
    "a - Add item to cart\n",
    "r - Remove item from cart\n",
    "c - Change item quantity\n",
    "i - Output items' descriptions\n",
    "o - Output shopping cart\n",
    "q - Quit\n",
    "Choose an option: \n",
    "\"\"\"\n",
    "    option = ''\n",
    "    while option != 'q':\n",
    "        print(menu)\n",
    "        option = input().strip()\n",
    "\n",
    "        if option == 'a':\n",
    "            print(\"ADD ITEM TO CART\")\n",
    "            name = input(\"Enter the item name: \")\n",
    "            description = input(\"Enter the item description: \")\n",
    "            price = int(input(\"Enter the item price: \"))\n",
    "            quantity = int(input(\"Enter the item quantity: \"))\n",
    "            item = ItemToPurchase(name, price, quantity, description)\n",
    "            shopping_cart.add_item(item)\n",
    "        \n",
    "        elif option == 'r':\n",
    "            print(\"REMOVE ITEM FROM CART\")\n",
    "            name = input(\"Enter name of item to remove: \")\n",
    "            shopping_cart.remove_item(name)\n",
    "        \n",
    "        elif option == 'c':\n",
    "            print(\"CHANGE ITEM QUANTITY\")\n",
    "            name = input(\"Enter the item name: \")\n",
    "            quantity = int(input(\"Enter the new quantity: \"))\n",
    "            item = ItemToPurchase(name, quantity=quantity)\n",
    "            shopping_cart.modify_item(item)\n",
    "        \n",
    "        elif option == 'i':\n",
    "            print(\"OUTPUT ITEMS' DESCRIPTIONS\")\n",
    "            shopping_cart.print_descriptions()\n",
    "        \n",
    "        elif option == 'o':\n",
    "            print(\"OUTPUT SHOPPING CART\")\n",
    "            shopping_cart.print_total()\n",
    "        \n",
    "        elif option == 'q':\n",
    "            print(\"Quit\")\n",
    "        else:\n",
    "            print(\"Invalid option. Please try again.\")\n"
   ]
  },
  {
   "cell_type": "code",
   "execution_count": 34,
   "id": "78b8b859-758c-4e3a-868d-6add7df79c78",
   "metadata": {},
   "outputs": [
    {
     "name": "stdin",
     "output_type": "stream",
     "text": [
      "Please enter customer's name:  Jay\n",
      "Please enter today's date:  22 Aug 2024\n"
     ]
    },
    {
     "name": "stdout",
     "output_type": "stream",
     "text": [
      "\n",
      "Customer name: Jay\n",
      "Today's date: 22 Aug 2024\n",
      "\n",
      "\n",
      "MENU\n",
      "a - Add item to cart\n",
      "r - Remove item from cart\n",
      "c - Change item quantity\n",
      "i - Output items' descriptions\n",
      "o - Output shopping cart\n",
      "q - Quit\n",
      "Choose an option: \n",
      "\n"
     ]
    },
    {
     "name": "stdin",
     "output_type": "stream",
     "text": [
      " a\n"
     ]
    },
    {
     "name": "stdout",
     "output_type": "stream",
     "text": [
      "ADD ITEM TO CART\n"
     ]
    },
    {
     "name": "stdin",
     "output_type": "stream",
     "text": [
      "Enter the item name:  Chips\n",
      "Enter the item description:  Lays\n",
      "Enter the item price:  4\n",
      "Enter the item quantity:  3\n"
     ]
    },
    {
     "name": "stdout",
     "output_type": "stream",
     "text": [
      "\n",
      "MENU\n",
      "a - Add item to cart\n",
      "r - Remove item from cart\n",
      "c - Change item quantity\n",
      "i - Output items' descriptions\n",
      "o - Output shopping cart\n",
      "q - Quit\n",
      "Choose an option: \n",
      "\n"
     ]
    },
    {
     "name": "stdin",
     "output_type": "stream",
     "text": [
      " a\n"
     ]
    },
    {
     "name": "stdout",
     "output_type": "stream",
     "text": [
      "ADD ITEM TO CART\n"
     ]
    },
    {
     "name": "stdin",
     "output_type": "stream",
     "text": [
      "Enter the item name:  Ice Cream\n",
      "Enter the item description:  Chocolate\n",
      "Enter the item price:  7\n",
      "Enter the item quantity:  2\n"
     ]
    },
    {
     "name": "stdout",
     "output_type": "stream",
     "text": [
      "\n",
      "MENU\n",
      "a - Add item to cart\n",
      "r - Remove item from cart\n",
      "c - Change item quantity\n",
      "i - Output items' descriptions\n",
      "o - Output shopping cart\n",
      "q - Quit\n",
      "Choose an option: \n",
      "\n"
     ]
    },
    {
     "name": "stdin",
     "output_type": "stream",
     "text": [
      " a\n"
     ]
    },
    {
     "name": "stdout",
     "output_type": "stream",
     "text": [
      "ADD ITEM TO CART\n"
     ]
    },
    {
     "name": "stdin",
     "output_type": "stream",
     "text": [
      "Enter the item name:  Milk\n",
      "Enter the item description:  A2 Fat free\n",
      "Enter the item price:  5\n",
      "Enter the item quantity:  2\n"
     ]
    },
    {
     "name": "stdout",
     "output_type": "stream",
     "text": [
      "\n",
      "MENU\n",
      "a - Add item to cart\n",
      "r - Remove item from cart\n",
      "c - Change item quantity\n",
      "i - Output items' descriptions\n",
      "o - Output shopping cart\n",
      "q - Quit\n",
      "Choose an option: \n",
      "\n"
     ]
    },
    {
     "name": "stdin",
     "output_type": "stream",
     "text": [
      " o\n"
     ]
    },
    {
     "name": "stdout",
     "output_type": "stream",
     "text": [
      "OUTPUT SHOPPING CART\n",
      "Jay's Shopping Cart - 22 Aug 2024\n",
      "Number of Items: 7\n",
      "Chips 3 @ $4 = $12\n",
      "Ice Cream 2 @ $7 = $14\n",
      "Milk 2 @ $5 = $10\n",
      "Total: $36\n",
      "\n",
      "MENU\n",
      "a - Add item to cart\n",
      "r - Remove item from cart\n",
      "c - Change item quantity\n",
      "i - Output items' descriptions\n",
      "o - Output shopping cart\n",
      "q - Quit\n",
      "Choose an option: \n",
      "\n"
     ]
    },
    {
     "name": "stdin",
     "output_type": "stream",
     "text": [
      " i\n"
     ]
    },
    {
     "name": "stdout",
     "output_type": "stream",
     "text": [
      "OUTPUT ITEMS' DESCRIPTIONS\n",
      "Jay's Shopping Cart - 22 Aug 2024\n",
      "Item Descriptions\n",
      "Chips: Lays\n",
      "Ice Cream: Chocolate\n",
      "Milk: A2 Fat free\n",
      "\n",
      "MENU\n",
      "a - Add item to cart\n",
      "r - Remove item from cart\n",
      "c - Change item quantity\n",
      "i - Output items' descriptions\n",
      "o - Output shopping cart\n",
      "q - Quit\n",
      "Choose an option: \n",
      "\n"
     ]
    },
    {
     "name": "stdin",
     "output_type": "stream",
     "text": [
      " q\n"
     ]
    },
    {
     "name": "stdout",
     "output_type": "stream",
     "text": [
      "Quit\n"
     ]
    }
   ],
   "source": [
    "def main():\n",
    "    customer_name = input(\"Please enter customer's name: \")\n",
    "    current_date = input(\"Please enter today's date: \")\n",
    "    shopping_cart = ShoppingCart(customer_name, current_date)\n",
    "    \n",
    "    print(f\"\\nCustomer name: {customer_name}\")\n",
    "    print(f\"Today's date: {current_date}\\n\")\n",
    "    \n",
    "    print_menu(shopping_cart)\n",
    "\n",
    "if __name__ == \"__main__\":\n",
    "    main()\n"
   ]
  },
  {
   "cell_type": "code",
   "execution_count": null,
   "id": "fcce17cc-e038-4170-a4b9-1f9bce3fc4b7",
   "metadata": {},
   "outputs": [],
   "source": []
  }
 ],
 "metadata": {
  "kernelspec": {
   "display_name": "Python 3 (ipykernel)",
   "language": "python",
   "name": "python3"
  },
  "language_info": {
   "codemirror_mode": {
    "name": "ipython",
    "version": 3
   },
   "file_extension": ".py",
   "mimetype": "text/x-python",
   "name": "python",
   "nbconvert_exporter": "python",
   "pygments_lexer": "ipython3",
   "version": "3.11.4"
  }
 },
 "nbformat": 4,
 "nbformat_minor": 5
}
