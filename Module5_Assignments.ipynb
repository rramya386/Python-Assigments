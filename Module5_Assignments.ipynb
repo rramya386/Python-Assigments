{
 "cells": [
  {
   "cell_type": "code",
   "execution_count": 3,
   "id": "d1299747-1ee9-4a4c-a7e6-3c2d0be729f6",
   "metadata": {},
   "outputs": [
    {
     "name": "stdin",
     "output_type": "stream",
     "text": [
      "Enter the number of years:  2\n"
     ]
    },
    {
     "name": "stdout",
     "output_type": "stream",
     "text": [
      "\n",
      "Year 1:\n"
     ]
    },
    {
     "name": "stdin",
     "output_type": "stream",
     "text": [
      "Enter the rainfall (in inches) for month 1:  3\n",
      "Enter the rainfall (in inches) for month 2:  4\n",
      "Enter the rainfall (in inches) for month 3:  5\n",
      "Enter the rainfall (in inches) for month 4:  5\n",
      "Enter the rainfall (in inches) for month 5:  6\n",
      "Enter the rainfall (in inches) for month 6:  34\n",
      "Enter the rainfall (in inches) for month 7:  53\n",
      "Enter the rainfall (in inches) for month 8:  52\n",
      "Enter the rainfall (in inches) for month 9:  34\n",
      "Enter the rainfall (in inches) for month 10:  23\n",
      "Enter the rainfall (in inches) for month 11:  12\n",
      "Enter the rainfall (in inches) for month 12:  4\n"
     ]
    },
    {
     "name": "stdout",
     "output_type": "stream",
     "text": [
      "\n",
      "Year 2:\n"
     ]
    },
    {
     "name": "stdin",
     "output_type": "stream",
     "text": [
      "Enter the rainfall (in inches) for month 1:  11\n",
      "Enter the rainfall (in inches) for month 2:  34\n",
      "Enter the rainfall (in inches) for month 3:  34\n",
      "Enter the rainfall (in inches) for month 4:  12\n",
      "Enter the rainfall (in inches) for month 5:  23\n",
      "Enter the rainfall (in inches) for month 6:  35\n",
      "Enter the rainfall (in inches) for month 7:  12\n",
      "Enter the rainfall (in inches) for month 8:  13\n",
      "Enter the rainfall (in inches) for month 9:  7\n",
      "Enter the rainfall (in inches) for month 10:  6\n",
      "Enter the rainfall (in inches) for month 11:  8\n",
      "Enter the rainfall (in inches) for month 12:  21\n"
     ]
    },
    {
     "name": "stdout",
     "output_type": "stream",
     "text": [
      "\n",
      "Total number of months: 24\n",
      "Total inches of rainfall: 451.00\n",
      "Average rainfall per month over the entire period: 18.79 inches\n"
     ]
    }
   ],
   "source": [
    "# Input the number of years\n",
    "No_Years = int(input(\"Enter the number of years: \"))\n",
    "\n",
    "# Initialize variables to store total rainfall and number of months\n",
    "total_rainfall_entered = 0\n",
    "total_MonthsOfRainfall = 0\n",
    "\n",
    "# Outer loop for each year\n",
    "for Year in range(1, No_Years + 1):\n",
    "    print(f\"\\nYear {Year}:\")\n",
    "    \n",
    "    # Inner loop for each month\n",
    "    for month in range(1, 13):\n",
    "        rainfall = float(input(f\"Enter the rainfall (in inches) for month {month}: \"))\n",
    "        total_rainfall_entered += rainfall\n",
    "        total_MonthsOfRainfall += 1\n",
    "\n",
    "# Calculate the average rainfall per month\n",
    "average_rainfall = total_rainfall_entered / total_MonthsOfRainfall\n",
    "\n",
    "# Display the results\n",
    "print(f\"\\nTotal number of months: {total_months}\")\n",
    "print(f\"Total inches of rainfall: {total_rainfall_entered:.2f}\")\n",
    "print(f\"Average rainfall per month over the entire period: {average_rainfall:.2f} inches\")\n"
   ]
  },
  {
   "cell_type": "code",
   "execution_count": 11,
   "id": "ff5bda07-271a-4602-a446-7a7e71f3f81b",
   "metadata": {},
   "outputs": [
    {
     "name": "stdin",
     "output_type": "stream",
     "text": [
      "Enter the number of books you have purchased this month:  8\n"
     ]
    },
    {
     "name": "stdout",
     "output_type": "stream",
     "text": [
      "You have earned 60 points.\n"
     ]
    }
   ],
   "source": [
    "# Ask the user for the number of books purchased this month\n",
    "books_purchased = int(input(\"Enter the number of books you have purchased this month: \"))\n",
    "\n",
    "# Determine the number of points awarded based on the number of books purchased\n",
    "if books_purchased == 0:\n",
    "    points_awarded = 0\n",
    "elif books_purchased == 2:\n",
    "    points_awarded = 5\n",
    "elif books_purchased == 4:\n",
    "    points_awarded = 15\n",
    "elif books_purchased == 6:\n",
    "    points_awarded = 30\n",
    "elif books_purchased >= 8:\n",
    "    points_awarded = 60\n",
    "else:\n",
    "    points_awarded = 0  # This handles any cases where the input does not match the specified conditions.\n",
    "\n",
    "# Display the number of points awarded\n",
    "print(f\"You have earned {points_awarded} points.\")"
   ]
  },
  {
   "cell_type": "code",
   "execution_count": null,
   "id": "fc56732b-f812-44aa-a27e-678da672acca",
   "metadata": {},
   "outputs": [],
   "source": []
  }
 ],
 "metadata": {
  "kernelspec": {
   "display_name": "Python 3 (ipykernel)",
   "language": "python",
   "name": "python3"
  },
  "language_info": {
   "codemirror_mode": {
    "name": "ipython",
    "version": 3
   },
   "file_extension": ".py",
   "mimetype": "text/x-python",
   "name": "python",
   "nbconvert_exporter": "python",
   "pygments_lexer": "ipython3",
   "version": "3.11.4"
  }
 },
 "nbformat": 4,
 "nbformat_minor": 5
}
